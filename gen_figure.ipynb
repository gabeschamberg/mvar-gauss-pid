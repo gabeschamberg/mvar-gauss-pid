{
 "cells": [
  {
   "cell_type": "code",
   "execution_count": null,
   "metadata": {},
   "outputs": [],
   "source": [
    "import pandas as pd\n",
    "import matplotlib.pyplot as plt\n",
    "import matplotlib\n",
    "import numpy as np\n",
    "import seaborn as sns\n",
    "\n",
    "font = {'size'   : 12}\n",
    "\n",
    "matplotlib.rc('font', **font)\n",
    "matplotlib.rc('font',**{'family':'sans-serif','sans-serif':['Helvetica']})\n",
    "matplotlib.rc('text', usetex=True)\n"
   ]
  },
  {
   "cell_type": "markdown",
   "metadata": {},
   "source": [
    "# Load Results"
   ]
  },
  {
   "cell_type": "code",
   "execution_count": null,
   "metadata": {},
   "outputs": [],
   "source": [
    "df = pd.read_csv('results.csv')\n",
    "df.head()"
   ]
  },
  {
   "cell_type": "markdown",
   "metadata": {},
   "source": [
    "# Define Plotting Function"
   ]
  },
  {
   "cell_type": "code",
   "execution_count": null,
   "metadata": {},
   "outputs": [],
   "source": [
    "# This code was largely takken from https://gist.github.com/davidandrzej/939840 (Thanks, David!)\n",
    "\n",
    "import matplotlib.ticker as MT\n",
    "import matplotlib.lines as L\n",
    "import matplotlib.cm as CM\n",
    "import matplotlib.colors as C\n",
    "import matplotlib.patches as PA\n",
    "\n",
    "def plotSimplex(points,colors,titles,**kwargs):\n",
    "    \"\"\"\n",
    "    Plot 4xNx3 points array on the 3-simplex \n",
    "    \n",
    "    kwargs will be passed along directly to matplotlib.pyplot.scatter    \n",
    "    Returns Figure, caller must .show()\n",
    "    \"\"\"\n",
    "    # 4 panels for conditions\n",
    "    offsets = [(0,1.3),(1.3,1.3),(0,0),(1.3,0)]\n",
    "    \n",
    "    fig = plt.figure()\n",
    "    \n",
    "    for point,color,title,(xoff,yoff) in zip(points,colors,titles,offsets):\n",
    "        # Draw the triangle\n",
    "        l1 = L.Line2D([0+xoff, 0.5+xoff, 1+xoff, 0+xoff], # xcoords\n",
    "                      [0+yoff, np.sqrt(3) / 2+yoff, 0+yoff, 0+yoff], # ycoords\n",
    "                      color='k')\n",
    "        fig.gca().add_line(l1)\n",
    "        fig.gca().xaxis.set_major_locator(MT.NullLocator())\n",
    "        fig.gca().yaxis.set_major_locator(MT.NullLocator())\n",
    "        # Draw vertex labels\n",
    "        fig.gca().text(0+xoff, -0.15+yoff, r'$\\overline{UI}_X$')\n",
    "        fig.gca().text(0.86+xoff, -0.15+yoff, r'$\\overline{UI}_Y$')\n",
    "        fig.gca().text(0.43+xoff, np.sqrt(3) / 2 + 0.05+yoff, r'$\\overline{RI}$')\n",
    "        fig.gca().text(0.05+xoff, np.sqrt(3) / 2 -0.2 +yoff,title)\n",
    "        # Project and draw the actual points\n",
    "        projected = projectSimplex(point)\n",
    "        plt.scatter(projected[:,0]+xoff, projected[:,1]+yoff,c=color, **kwargs)              \n",
    "        # Leave some buffer around the triangle for vertex labels\n",
    "        fig.gca().set_xlim(-0.195, 2.45)\n",
    "        fig.gca().set_ylim(-0.22, 2.4)\n",
    "        \n",
    "    cbar = plt.colorbar()\n",
    "    cbar.set_label(r'$\\overline{SI}$',rotation=0)\n",
    "    plt.clim([0,1])\n",
    "\n",
    "    return fig    \n",
    "\n",
    "def projectSimplex(points):\n",
    "    \"\"\" \n",
    "    Project probabilities on the 3-simplex to a 2D triangle\n",
    "    \n",
    "    N points are given as N x 3 array\n",
    "    \"\"\"\n",
    "    # Convert points one at a time\n",
    "    tripts = np.zeros((points.shape[0],2))\n",
    "    for idx in range(points.shape[0]):\n",
    "        # Init to triangle centroid\n",
    "        x = 1.0 / 2\n",
    "        y = 1.0 / (2 * np.sqrt(3))\n",
    "        # Vector 1 - bisect out of lower left vertex \n",
    "        p1 = points[idx, 0]\n",
    "        x = x - (1.0 / np.sqrt(3)) * p1 * np.cos(np.pi / 6)\n",
    "        y = y - (1.0 / np.sqrt(3)) * p1 * np.sin(np.pi / 6)\n",
    "        # Vector 2 - bisect out of lower right vertex  \n",
    "        p2 = points[idx, 1]  \n",
    "        x = x + (1.0 / np.sqrt(3)) * p2 * np.cos(np.pi / 6)\n",
    "        y = y - (1.0 / np.sqrt(3)) * p2 * np.sin(np.pi / 6)        \n",
    "        # Vector 3 - bisect out of top vertex\n",
    "        p3 = points[idx, 2]\n",
    "        y = y + (1.0 / np.sqrt(3) * p3)\n",
    "      \n",
    "        tripts[idx,:] = (x,y)\n",
    "\n",
    "    return tripts"
   ]
  },
  {
   "cell_type": "markdown",
   "metadata": {},
   "source": [
    "# Plot Results"
   ]
  },
  {
   "cell_type": "code",
   "execution_count": null,
   "metadata": {},
   "outputs": [],
   "source": [
    "# get samples for condition 1\n",
    "S1 = df.loc[(df['dm'] == df['dx']) & (df['dm'] == df['dy'])]\n",
    "# get samples for condition 2\n",
    "S2 = df.loc[(df['dm'] < df['dx']) & (df['dm'] < df['dy']) ]\n",
    "# get samples for condition 3\n",
    "S3 = df.loc[(df['dm'] > df['dx']) & (df['dm'] > df['dy']) ]\n",
    "# get samples for condition 4\n",
    "S4 = df.loc[((df['dm'] < df['dx']) & (df['dm'] > df['dy'])) | ((df['dm'] > df['dx']) & (df['dm'] < df['dy'])) ]\n",
    "\n",
    "# store the positions and colors for each condition\n",
    "points = []\n",
    "colors = []\n",
    "for dfs in [S1,S2,S3,S4]:\n",
    "    points.append(np.vstack((dfs['nuix'].values,dfs['nuiy'].values,dfs['nri'].values)).T)\n",
    "    colors.append(dfs['nsi'].values)\n",
    "\n",
    "# titles for panels\n",
    "titles = [r'$(S1)$',r'$(S2)$',r'$(S3)$',r'$(S4)$']\n",
    "    \n",
    "# define colormap\n",
    "cmap = CM.get_cmap('nipy_spectral')\n",
    "\n",
    "# do scatter plot\n",
    "fig = plotSimplex(points,colors,titles,s=0.3,cmap=cmap)\n",
    "\n",
    "# save figure\n",
    "plt.savefig('simplex.png',dpi=500)"
   ]
  }
 ],
 "metadata": {
  "kernelspec": {
   "display_name": "Python 3",
   "language": "python",
   "name": "python3"
  },
  "language_info": {
   "codemirror_mode": {
    "name": "ipython",
    "version": 3
   },
   "file_extension": ".py",
   "mimetype": "text/x-python",
   "name": "python",
   "nbconvert_exporter": "python",
   "pygments_lexer": "ipython3",
   "version": "3.7.4"
  }
 },
 "nbformat": 4,
 "nbformat_minor": 2
}
